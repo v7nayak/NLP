{
  "nbformat": 4,
  "nbformat_minor": 0,
  "metadata": {
    "colab": {
      "provenance": []
    },
    "kernelspec": {
      "name": "python3",
      "display_name": "Python 3"
    },
    "language_info": {
      "name": "python"
    }
  },
  "cells": [
    {
      "cell_type": "code",
      "execution_count": null,
      "metadata": {
        "id": "bZ6Z0C-rsUHt"
      },
      "outputs": [],
      "source": [
        "import os\n",
        "import numpy as np\n",
        "import pandas as pd"
      ]
    },
    {
      "cell_type": "code",
      "source": [
        "df = pd.read_csv('sample.csv')"
      ],
      "metadata": {
        "id": "n2sBneithO7o"
      },
      "execution_count": null,
      "outputs": []
    },
    {
      "cell_type": "code",
      "source": [
        "df.head()"
      ],
      "metadata": {
        "id": "Ww5MTrYNst64"
      },
      "execution_count": null,
      "outputs": []
    },
    {
      "cell_type": "code",
      "source": [
        "df.isnull().sum()"
      ],
      "metadata": {
        "id": "RNhQWBRNszDN"
      },
      "execution_count": null,
      "outputs": []
    },
    {
      "cell_type": "code",
      "source": [
        "df.shape"
      ],
      "metadata": {
        "id": "rR43jB8cs2mc"
      },
      "execution_count": null,
      "outputs": []
    },
    {
      "cell_type": "code",
      "source": [
        "#1 Lowercasing\n",
        "\n",
        "df['text'] = df['text'].str.lower()"
      ],
      "metadata": {
        "id": "JR-VkO1DjgSS"
      },
      "execution_count": null,
      "outputs": []
    },
    {
      "cell_type": "code",
      "source": [
        "df['text']"
      ],
      "metadata": {
        "id": "OFpfyLABtRPw"
      },
      "execution_count": null,
      "outputs": []
    },
    {
      "cell_type": "code",
      "source": [
        "#2 Removing HTML Tags\n",
        "\n",
        "import re   #Regular Expressions\n",
        "\n",
        "def remove_html(text):\n",
        "\n",
        "  pattern = re.compile('<.*?>')\n",
        "  return pattern.sub(r'', text)"
      ],
      "metadata": {
        "id": "eJmMaYNDoxaf"
      },
      "execution_count": null,
      "outputs": []
    },
    {
      "cell_type": "code",
      "source": [
        "text = \"<html><head> myWebpage </head><body>This is what the pre-processed text looks like </body></html>\""
      ],
      "metadata": {
        "id": "ojeP9Sq7uX9N"
      },
      "execution_count": null,
      "outputs": []
    },
    {
      "cell_type": "code",
      "source": [
        "remove_html(text)"
      ],
      "metadata": {
        "id": "ABY2D9p4vXbG"
      },
      "execution_count": null,
      "outputs": []
    },
    {
      "cell_type": "code",
      "source": [
        "df['text'] = df['text'].apply(remove_html)"
      ],
      "metadata": {
        "id": "l-r9fXNwvc2f"
      },
      "execution_count": null,
      "outputs": []
    },
    {
      "cell_type": "code",
      "source": [
        "df['text']"
      ],
      "metadata": {
        "id": "BL1LPr1zvubL"
      },
      "execution_count": null,
      "outputs": []
    },
    {
      "cell_type": "code",
      "source": [
        "df.text[89]"
      ],
      "metadata": {
        "id": "MgkK5qfaxsVO"
      },
      "execution_count": null,
      "outputs": []
    },
    {
      "cell_type": "code",
      "source": [
        "#3 Removing URLs\n",
        "\n",
        "def remove_url(text):\n",
        "  pattern = re.compile(r'https://\\S+|www\\.\\S+')\n",
        "  return pattern.sub(r'', text)"
      ],
      "metadata": {
        "id": "YaNVFXpaxo1e"
      },
      "execution_count": null,
      "outputs": []
    },
    {
      "cell_type": "code",
      "source": [
        "df['text'] = df['text'].apply(remove_url)"
      ],
      "metadata": {
        "id": "yPClT0jTyrDX"
      },
      "execution_count": null,
      "outputs": []
    },
    {
      "cell_type": "code",
      "source": [
        "df.text[89]"
      ],
      "metadata": {
        "id": "Qu2hiPz6ywk3"
      },
      "execution_count": null,
      "outputs": []
    },
    {
      "cell_type": "code",
      "source": [
        "#4 Removing \"@\"\n",
        "\n",
        "def remove_at(text):\n",
        "  pattern = re.compile('@?')\n",
        "  return pattern.sub(r'', text)"
      ],
      "metadata": {
        "id": "4bbS3B8CqU_J"
      },
      "execution_count": null,
      "outputs": []
    },
    {
      "cell_type": "code",
      "source": [
        "df.text[0]"
      ],
      "metadata": {
        "id": "eoqQetHRzHqX"
      },
      "execution_count": null,
      "outputs": []
    },
    {
      "cell_type": "code",
      "source": [
        "df['text'] = df['text'].apply(remove_at)"
      ],
      "metadata": {
        "id": "_O3eC6Fxy7oz"
      },
      "execution_count": null,
      "outputs": []
    },
    {
      "cell_type": "code",
      "source": [
        "df.text[0]"
      ],
      "metadata": {
        "id": "VyTuTevzzB83"
      },
      "execution_count": null,
      "outputs": []
    },
    {
      "cell_type": "code",
      "source": [
        " #5 Removing Punctuation\n",
        "\n",
        " import string, time\n",
        " exclude = string.punctuation"
      ],
      "metadata": {
        "id": "FCiwxhds1zZw"
      },
      "execution_count": null,
      "outputs": []
    },
    {
      "cell_type": "code",
      "source": [
        "def remove_punct(text):\n",
        "    for char in exclude:\n",
        "      text = text.replace(char, '')\n",
        "    return text"
      ],
      "metadata": {
        "id": "gQ8eQvcC3iv2"
      },
      "execution_count": null,
      "outputs": []
    },
    {
      "cell_type": "code",
      "source": [
        "text = 'String. with(out)! punctuation!!!'"
      ],
      "metadata": {
        "id": "tCD3ipCH37_p"
      },
      "execution_count": null,
      "outputs": []
    },
    {
      "cell_type": "code",
      "source": [
        "start = time.time()\n",
        "print(remove_punct(text))\n",
        "\n",
        "time1 = time.time() - start"
      ],
      "metadata": {
        "id": "zhXrUd7T386X"
      },
      "execution_count": null,
      "outputs": []
    },
    {
      "cell_type": "code",
      "source": [
        "time1*50000"
      ],
      "metadata": {
        "id": "fo-Sd2dU4Yuo"
      },
      "execution_count": null,
      "outputs": []
    },
    {
      "cell_type": "code",
      "source": [
        "def remove_punct1(text):\n",
        "  return text.translate(str.maketrans('', '', exclude))"
      ],
      "metadata": {
        "id": "AlgQpAtz4g_-"
      },
      "execution_count": null,
      "outputs": []
    },
    {
      "cell_type": "code",
      "source": [
        "start = time.time()\n",
        "remove_punct1(text)\n",
        "time2 = time.time() - start\n",
        "print(time2 * 50000)"
      ],
      "metadata": {
        "id": "toaVW1qv4rne"
      },
      "execution_count": null,
      "outputs": []
    },
    {
      "cell_type": "code",
      "source": [
        "time1 / time2"
      ],
      "metadata": {
        "id": "bmJANx5b45y7"
      },
      "execution_count": null,
      "outputs": []
    },
    {
      "cell_type": "code",
      "source": [
        "df.text[90]"
      ],
      "metadata": {
        "id": "3NsYQDOv5mHj"
      },
      "execution_count": null,
      "outputs": []
    },
    {
      "cell_type": "code",
      "source": [
        "df['text'] = df['text'].apply(remove_punct1)"
      ],
      "metadata": {
        "id": "GACEuSAV5H3u"
      },
      "execution_count": null,
      "outputs": []
    },
    {
      "cell_type": "code",
      "source": [
        "df.text[90]"
      ],
      "metadata": {
        "id": "GSqIOXlT5RPC"
      },
      "execution_count": null,
      "outputs": []
    },
    {
      "cell_type": "code",
      "source": [
        "#6 Dealing with chat words"
      ],
      "metadata": {
        "id": "rcD0F7UqB_5w"
      },
      "execution_count": null,
      "outputs": []
    },
    {
      "cell_type": "code",
      "source": [
        "chat_words = {\n",
        "    'AFAIK': 'As Far As I Know',\n",
        "    'AFK': 'Away From Keyboard',\n",
        "    'ASAP': 'As Soon As Possible',\n",
        "    'ATK': 'At The Keyboard',\n",
        "    'ATM': 'At The Moment',\n",
        "    'A3': 'Anytime, Anywhere, Anyplace',\n",
        "    'BAK': 'Back At Keyboard',\n",
        "    'BBL': 'Be Back Later',\n",
        "    'BBS': 'Be Back Soon',\n",
        "    'BFN': 'Bye For Now',\n",
        "    'B4N': 'Bye For Now',\n",
        "    'BRB': 'Be Right Back',\n",
        "    'BRT': 'Be Right There',\n",
        "    'BTW': 'By The Way',\n",
        "    'B4': 'Before',\n",
        "    'CU': 'See You',\n",
        "    'CUL8R': 'See You Later',\n",
        "    'CYA': 'See You',\n",
        "    'FAQ': 'Frequently Asked Questions',\n",
        "    'FC': 'Fingers Crossed',\n",
        "    'FWIW': 'For What It\\'s Worth',\n",
        "    'FYI': 'For Your Information',\n",
        "    'GAL': 'Get A Life',\n",
        "    'GG': 'Good Game',\n",
        "    'GN': 'Good Night',\n",
        "    'GMTA': 'Great Minds Think Alike',\n",
        "    'GR8': 'Great!',\n",
        "    'G9': 'Genius',\n",
        "    'IC': 'I See',\n",
        "    'ICQ': 'I Seek you',\n",
        "    'ILU': 'I Love You',\n",
        "    'IMHO': 'In My Honest/Humble Opinion',\n",
        "    'IMO': 'In My Opinion',\n",
        "    'IOW': 'In Other Words',\n",
        "    'IRL': 'In Real Life',\n",
        "    'KISS': 'Keep It Simple, Stupid',\n",
        "    'LDR': 'Long Distance Relationship',\n",
        "    'LMAO': 'Laugh My A.. Off',\n",
        "    'LOL': 'Laughing Out Loud',\n",
        "    'LTNS': 'Long Time No See',\n",
        "    'L8R': 'Later',\n",
        "    'MTE': 'My Thoughts Exactly',\n",
        "    'M8': 'Mate',\n",
        "    'NRN': 'No Reply Necessary',\n",
        "    'OIC': 'Oh I See',\n",
        "    'PITA': 'Pain In The A..',\n",
        "    'PRT': 'Party',\n",
        "    'PRW': 'Parents Are Watching',\n",
        "    'QPSA': 'Que Pasa?',\n",
        "    'ROFL': 'Rolling On The Floor Laughing',\n",
        "    'ROFLOL': 'Rolling On The Floor Laughing Out Loud',\n",
        "    'ROTFLMAO': 'Rolling On The Floor Laughing My A.. Off',\n",
        "    'SK8': 'Skate',\n",
        "    'STATS': 'Your sex and age',\n",
        "    'ASL': 'Age, Sex, Location',\n",
        "    'THX': 'Thank You',\n",
        "    'TTFN': 'Ta-Ta For Now!',\n",
        "    'TTYL': 'Talk To You Later',\n",
        "    'U': 'You',\n",
        "    'U2': 'You Too',\n",
        "    'U4E': 'Yours For Ever',\n",
        "    'WB': 'Welcome Back',\n",
        "    'WTF': 'What The F...',\n",
        "    'WTG': 'Way To Go!',\n",
        "    'WUF': 'Where Are You From?',\n",
        "    'W8': 'Wait',\n",
        "    '7K': 'Sick:-D Laugher',\n",
        "    'TFW': 'That feeling when',\n",
        "    'MFW': 'My face when',\n",
        "    'MRW': 'My reaction when',\n",
        "    'IFYP': 'I feel your pain',\n",
        "    'LOL': 'Laughing out loud',\n",
        "    'TNTL': 'Trying not to laugh',\n",
        "    'JK': 'Just kidding',\n",
        "    'IDC': 'I don’t care',\n",
        "    'ILY': 'I love you',\n",
        "    'IMU': 'I miss you',\n",
        "    'ADIH': 'Another day in hell',\n",
        "    'IDC': 'I don’t care',\n",
        "    'ZZZ': 'Sleeping, bored, tired',\n",
        "    'WYWH': 'Wish you were here',\n",
        "    'TIME': 'Tears in my eyes',\n",
        "    'BAE': 'Before anyone else',\n",
        "    'FIMH': 'Forever in my heart',\n",
        "    'BSAAW': 'Big smile and a wink',\n",
        "    'BWL': 'Bursting with laughter',\n",
        "    'LMAO': 'Laughing my ass off',\n",
        "    'BFF': 'Best friends forever',\n",
        "    'CSL': 'Can’t stop laughing'\n",
        "}"
      ],
      "metadata": {
        "id": "obPyQhbC5eBE"
      },
      "execution_count": null,
      "outputs": []
    },
    {
      "cell_type": "code",
      "source": [
        "def convert_chat(text):\n",
        "  new_text = []\n",
        "  for w in text.split():\n",
        "    if w.upper() in chat_words:\n",
        "      new_text.append(chat_words[w.upper()])\n",
        "    else:\n",
        "      new_text.append(w)\n",
        "  return \" \".join(new_text)"
      ],
      "metadata": {
        "id": "lN4njqo67GxJ"
      },
      "execution_count": null,
      "outputs": []
    },
    {
      "cell_type": "code",
      "source": [
        "convert_chat('I think the police should be arriving ASAP')"
      ],
      "metadata": {
        "id": "Vc9e3x227nFN"
      },
      "execution_count": null,
      "outputs": []
    },
    {
      "cell_type": "code",
      "source": [
        "df['text'].apply(convert_chat)"
      ],
      "metadata": {
        "colab": {
          "base_uri": "https://localhost:8080/"
        },
        "id": "lTarB7MMJzGt",
        "outputId": "1b5372ca-7d27-4396-ece2-93f1a0df3123"
      },
      "execution_count": null,
      "outputs": [
        {
          "output_type": "execute_result",
          "data": {
            "text/plain": [
              "0     applesupport causing the reply to be disregard...\n",
              "1     105835 your business means a lot to us please ...\n",
              "2     76328 i really hope you all change but im sure...\n",
              "3     105836 livechat is online at the moment or con...\n",
              "4     virgintrains see attached error message ive tr...\n",
              "                            ...                        \n",
              "88    105860 i wish amazon had an option of where i ...\n",
              "89                 they reschedule my shit for tomorrow\n",
              "90    105861 hey sara sorry to hear of the issues yo...\n",
              "91    tesco bit of both finding the layout cumbersom...\n",
              "92    105861 if that doesnt help please dm your full...\n",
              "Name: text, Length: 93, dtype: object"
            ]
          },
          "metadata": {},
          "execution_count": 126
        }
      ]
    },
    {
      "cell_type": "code",
      "source": [
        "#7 Spelling mistakes\n",
        "\n",
        "from textblob import TextBlob\n",
        "\n",
        "misspelt = \"Ceertain valuus have been missnng from the file.\"\n",
        "\n",
        "model = TextBlob(misspelt)\n",
        "\n",
        "model.correct().string"
      ],
      "metadata": {
        "id": "GrWbSLihB5Ht"
      },
      "execution_count": null,
      "outputs": []
    },
    {
      "cell_type": "code",
      "source": [
        "#8 Removing Stop words\n",
        "\n",
        "import nltk\n",
        "# nltk.download('stopwords')\n",
        "\n",
        "from nltk.corpus import stopwords"
      ],
      "metadata": {
        "id": "Rt6xDglqIeqc"
      },
      "execution_count": null,
      "outputs": []
    },
    {
      "cell_type": "code",
      "source": [
        "stopwords.words('english')"
      ],
      "metadata": {
        "id": "7u3eJrtQH55x"
      },
      "execution_count": null,
      "outputs": []
    },
    {
      "cell_type": "code",
      "source": [
        "def remove_stop_words(text):\n",
        "  new_text = []\n",
        "\n",
        "  for word in text.split():\n",
        "    if word in stopwords.words('english'):\n",
        "      new_text.append('')\n",
        "    else:\n",
        "      new_text.append(word)\n",
        "  x = new_text[:]\n",
        "  new_text.clear()\n",
        "  return \" \".join(x)"
      ],
      "metadata": {
        "id": "q0Weu5nFI-Tz"
      },
      "execution_count": null,
      "outputs": []
    },
    {
      "cell_type": "code",
      "source": [
        "remove_stop_words('I think I have left my pen at the office')"
      ],
      "metadata": {
        "colab": {
          "base_uri": "https://localhost:8080/",
          "height": 36
        },
        "id": "fx_LsAn7Japj",
        "outputId": "53323bd2-3d7d-443f-9960-3f0925632f28"
      },
      "execution_count": null,
      "outputs": [
        {
          "output_type": "execute_result",
          "data": {
            "text/plain": [
              "'I think I  left  pen   office'"
            ],
            "application/vnd.google.colaboratory.intrinsic+json": {
              "type": "string"
            }
          },
          "metadata": {},
          "execution_count": 124
        }
      ]
    },
    {
      "cell_type": "code",
      "source": [
        "df['text'].apply(remove_stop_words)"
      ],
      "metadata": {
        "colab": {
          "base_uri": "https://localhost:8080/"
        },
        "id": "dBbBGu-kJnS0",
        "outputId": "421627fe-671a-4448-b908-dc9fe66055a2"
      },
      "execution_count": null,
      "outputs": [
        {
          "output_type": "execute_result",
          "data": {
            "text/plain": [
              "0     applesupport causing  reply   disregarded   ta...\n",
              "1     105835  business means  lot  us please dm  nam...\n",
              "2     76328  really hope   change  im sure  wont   d...\n",
              "3     105836 livechat  online   moment  contact 0333...\n",
              "4     virgintrains see attached error message ive tr...\n",
              "                            ...                        \n",
              "88    105860  wish amazon   option      get  shipped...\n",
              "89                           reschedule  shit  tomorrow\n",
              "90    105861 hey sara sorry  hear   issues      ask ...\n",
              "91    tesco bit   finding  layout cumbersome   remov...\n",
              "92    105861   doesnt help please dm  full name addr...\n",
              "Name: text, Length: 93, dtype: object"
            ]
          },
          "metadata": {},
          "execution_count": 125
        }
      ]
    },
    {
      "cell_type": "code",
      "source": [
        "#9 Emojis (Remove)\n",
        "\n",
        "import re\n",
        "\n",
        "def remove_emoji(text):\n",
        "\n",
        "  emoji_pattern= re.compile(\"[\"\n",
        "          u\"\\U0001F600-\\U0001F64F\"             #emoticons\n",
        "          u\"\\U0001F300-\\U0001F5FF\"              #symbols & pictographs\n",
        "          u\"\\U0001F680-\\U0001F6FF\"             #transport & map symbols\n",
        "          u\"\\U0001F1E0-\\U0001F1FF\"             #flags (iOS)\n",
        "          u\"\\U00002702-\\U000027B0\"\n",
        "          u\"\\U000024C2-\\U0001F251\"\n",
        "          \"]+\", flags=re.UNICODE)\n",
        "  return emoji_pattern.sub(r'', text)"
      ],
      "metadata": {
        "id": "XI_q6r4FKIGE"
      },
      "execution_count": null,
      "outputs": []
    },
    {
      "cell_type": "code",
      "source": [
        "remove_emoji(\"i accidentally booked a slot for the Monday ride and paid 😂\")"
      ],
      "metadata": {
        "colab": {
          "base_uri": "https://localhost:8080/",
          "height": 36
        },
        "id": "lLeoTwSMZrjL",
        "outputId": "6d4d2c8f-f83b-4e39-c5ea-d4f3b0eab577"
      },
      "execution_count": null,
      "outputs": [
        {
          "output_type": "execute_result",
          "data": {
            "text/plain": [
              "'i accidentally booked a slot for the Monday ride and paid '"
            ],
            "application/vnd.google.colaboratory.intrinsic+json": {
              "type": "string"
            }
          },
          "metadata": {},
          "execution_count": 136
        }
      ]
    },
    {
      "cell_type": "code",
      "source": [
        "df['text'] = df['text'].apply(remove_emoji)"
      ],
      "metadata": {
        "id": "mQwuEfHCaOg5"
      },
      "execution_count": null,
      "outputs": []
    },
    {
      "cell_type": "code",
      "source": [
        "df['text']"
      ],
      "metadata": {
        "colab": {
          "base_uri": "https://localhost:8080/"
        },
        "id": "vlhYpFLqaSZM",
        "outputId": "6bb35295-349d-4fbc-99c1-20c071b028ac"
      },
      "execution_count": null,
      "outputs": [
        {
          "output_type": "execute_result",
          "data": {
            "text/plain": [
              "0     applesupport causing the reply to be disregard...\n",
              "1     105835 your business means a lot to us please ...\n",
              "2     76328 i really hope you all change but im sure...\n",
              "3     105836 livechat is online at the moment   or c...\n",
              "4     virgintrains see attached error message ive tr...\n",
              "                            ...                        \n",
              "88    105860 i wish amazon had an option of where i ...\n",
              "89                they reschedule my shit for tomorrow \n",
              "90    105861 hey sara sorry to hear of the issues yo...\n",
              "91    tesco bit of both  finding the layout cumberso...\n",
              "92    105861 if that doesnt help please dm your full...\n",
              "Name: text, Length: 93, dtype: object"
            ]
          },
          "metadata": {},
          "execution_count": 138
        }
      ]
    },
    {
      "cell_type": "code",
      "source": [
        "#10 Emojis (Replace)\n",
        "\n",
        "import emoji\n",
        "print(emoji.demojize('Mercedes is 👍🏻'))\n",
        "\n",
        "# Since it converts the emojis into words with colons,\n",
        "# I think you should apply this process BEFORE removing\n",
        "# punctuation symbols."
      ],
      "metadata": {
        "colab": {
          "base_uri": "https://localhost:8080/"
        },
        "id": "-zP2yqImaVam",
        "outputId": "f10cff93-ea31-4f9f-f5d1-89057b179244"
      },
      "execution_count": null,
      "outputs": [
        {
          "output_type": "stream",
          "name": "stdout",
          "text": [
            "Mercedes is :thumbs_up_light_skin_tone:\n"
          ]
        }
      ]
    },
    {
      "cell_type": "code",
      "source": [
        "#11 Tokenization"
      ],
      "metadata": {
        "id": "yuGuBkZb9B4c"
      },
      "execution_count": null,
      "outputs": []
    },
    {
      "cell_type": "markdown",
      "source": [
        "NLTK"
      ],
      "metadata": {
        "id": "nw6Kb-xd9EDd"
      }
    },
    {
      "cell_type": "code",
      "source": [
        "import nltk\n",
        "\n",
        "from nltk.tokenize import word_tokenize, sent_tokenize\n",
        "\n",
        "nltk.download('punkt')"
      ],
      "metadata": {
        "colab": {
          "base_uri": "https://localhost:8080/"
        },
        "id": "JGjpsJBba1Dd",
        "outputId": "ef38f902-76ae-4a87-addb-279d97ec6180"
      },
      "execution_count": 4,
      "outputs": [
        {
          "output_type": "stream",
          "name": "stderr",
          "text": [
            "[nltk_data] Downloading package punkt to /root/nltk_data...\n",
            "[nltk_data]   Unzipping tokenizers/punkt.zip.\n"
          ]
        },
        {
          "output_type": "execute_result",
          "data": {
            "text/plain": [
              "True"
            ]
          },
          "metadata": {},
          "execution_count": 4
        }
      ]
    },
    {
      "cell_type": "code",
      "source": [
        "s1 = 'Wow! What a great shot!'\n",
        "word_tokenize(s1)"
      ],
      "metadata": {
        "colab": {
          "base_uri": "https://localhost:8080/"
        },
        "id": "vURErgJkfJY_",
        "outputId": "f2a4cc42-5cb3-4309-a694-a1b2efc53a88"
      },
      "execution_count": null,
      "outputs": [
        {
          "output_type": "execute_result",
          "data": {
            "text/plain": [
              "['Wow', '!', 'What', 'a', 'great', 'shot', '!']"
            ]
          },
          "metadata": {},
          "execution_count": 150
        }
      ]
    },
    {
      "cell_type": "code",
      "source": [
        "s2 = \"I have a Ph.D in A.I\"\n",
        "word_tokenize(s2)"
      ],
      "metadata": {
        "colab": {
          "base_uri": "https://localhost:8080/"
        },
        "id": "gYpYZuu0fmWJ",
        "outputId": "4c5a30fc-0d36-49f7-f8f0-ee2338609f8c"
      },
      "execution_count": null,
      "outputs": [
        {
          "output_type": "execute_result",
          "data": {
            "text/plain": [
              "['I', 'have', 'a', 'Ph.D', 'in', 'A.I']"
            ]
          },
          "metadata": {},
          "execution_count": 153
        }
      ]
    },
    {
      "cell_type": "code",
      "source": [
        "s3 = \"L.O.L that is really funny!\"\n",
        "word_tokenize(s3)"
      ],
      "metadata": {
        "colab": {
          "base_uri": "https://localhost:8080/"
        },
        "id": "FzGoiKl0gBNV",
        "outputId": "4385ea8f-c4e5-4b84-b800-a828ad57a93b"
      },
      "execution_count": null,
      "outputs": [
        {
          "output_type": "execute_result",
          "data": {
            "text/plain": [
              "['L.O.L', 'that', 'is', 'really', 'funny', '!']"
            ]
          },
          "metadata": {},
          "execution_count": 154
        }
      ]
    },
    {
      "cell_type": "code",
      "source": [
        "s4 = \"A 5 k.m. ride costs $3.50\"\n",
        "word_tokenize(s4)"
      ],
      "metadata": {
        "id": "tknMc_fxgEa2",
        "colab": {
          "base_uri": "https://localhost:8080/"
        },
        "outputId": "bc7418e3-d254-42aa-a0e1-7cec641abf4b"
      },
      "execution_count": 5,
      "outputs": [
        {
          "output_type": "execute_result",
          "data": {
            "text/plain": [
              "['A', '5', 'k.m', '.', 'ride', 'costs', '$', '3.50']"
            ]
          },
          "metadata": {},
          "execution_count": 5
        }
      ]
    },
    {
      "cell_type": "code",
      "source": [
        "s = \"We're here to help! Mail us at nlp@gmail.com\"\n",
        "word_tokenize(s)"
      ],
      "metadata": {
        "colab": {
          "base_uri": "https://localhost:8080/"
        },
        "id": "ecC2i1zo9mw1",
        "outputId": "ef439342-cb78-4938-f979-6eae7c663a4d"
      },
      "execution_count": 7,
      "outputs": [
        {
          "output_type": "execute_result",
          "data": {
            "text/plain": [
              "['We',\n",
              " \"'re\",\n",
              " 'here',\n",
              " 'to',\n",
              " 'help',\n",
              " '!',\n",
              " 'Mail',\n",
              " 'us',\n",
              " 'at',\n",
              " 'nlp',\n",
              " '@',\n",
              " 'gmail.com']"
            ]
          },
          "metadata": {},
          "execution_count": 7
        }
      ]
    },
    {
      "cell_type": "markdown",
      "source": [
        "Spacy"
      ],
      "metadata": {
        "id": "lziSIJbI85WS"
      }
    },
    {
      "cell_type": "code",
      "source": [
        "import spacy\n",
        "nlp = spacy.load('en_core_web_sm')"
      ],
      "metadata": {
        "id": "6PpSrnOy83Ys"
      },
      "execution_count": 6,
      "outputs": []
    },
    {
      "cell_type": "code",
      "source": [
        "s5 = 'I have a Ph.D in A.I'\n",
        "s6 = \"We're here to help! Mail us at nlp@gmail.com\"\n",
        "s7 = \"A 5km ride costs $10.50\""
      ],
      "metadata": {
        "id": "G8RjVUrF9Y6m"
      },
      "execution_count": 9,
      "outputs": []
    },
    {
      "cell_type": "code",
      "source": [
        "doc1 = nlp(s5)\n",
        "doc2 = nlp(s6)\n",
        "doc3 = nlp(s7)"
      ],
      "metadata": {
        "id": "hmZKXfpm9N3w"
      },
      "execution_count": 10,
      "outputs": []
    },
    {
      "cell_type": "code",
      "source": [
        "for token in doc1:\n",
        "  print(token)"
      ],
      "metadata": {
        "colab": {
          "base_uri": "https://localhost:8080/"
        },
        "id": "-ILW0Mjc_gXh",
        "outputId": "26a4bfe3-adf8-42f6-abd1-8532d0a8af5d"
      },
      "execution_count": 13,
      "outputs": [
        {
          "output_type": "stream",
          "name": "stdout",
          "text": [
            "I\n",
            "have\n",
            "a\n",
            "Ph\n",
            ".\n",
            "D\n",
            "in\n",
            "A.I\n"
          ]
        }
      ]
    }
  ]
}